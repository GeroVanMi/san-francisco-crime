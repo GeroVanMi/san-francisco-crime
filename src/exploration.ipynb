{
 "cells": [
  {
   "cell_type": "code",
   "execution_count": 3,
   "metadata": {
    "collapsed": true
   },
   "outputs": [],
   "source": [
    "import pandas as pd\n",
    "from sklearn.preprocessing import OneHotEncoder"
   ]
  },
  {
   "cell_type": "code",
   "execution_count": 30,
   "outputs": [
    {
     "data": {
      "text/plain": "                      Category                                   Descript  \\\n0                     WARRANTS                             WARRANT ARREST   \n1               OTHER OFFENSES                   TRAFFIC VIOLATION ARREST   \n2               OTHER OFFENSES                   TRAFFIC VIOLATION ARREST   \n3                LARCENY/THEFT               GRAND THEFT FROM LOCKED AUTO   \n4                LARCENY/THEFT               GRAND THEFT FROM LOCKED AUTO   \n...                        ...                                        ...   \n878044                 ROBBERY           ROBBERY ON THE STREET WITH A GUN   \n878045           LARCENY/THEFT               GRAND THEFT FROM LOCKED AUTO   \n878046           LARCENY/THEFT               GRAND THEFT FROM LOCKED AUTO   \n878047               VANDALISM  MALICIOUS MISCHIEF, VANDALISM OF VEHICLES   \n878048  FORGERY/COUNTERFEITING                   CHECKS, FORGERY (FELONY)   \n\n        DayOfWeek PdDistrict      Resolution                     Address  \\\n0       Wednesday   NORTHERN  ARREST, BOOKED          OAK ST / LAGUNA ST   \n1       Wednesday   NORTHERN  ARREST, BOOKED          OAK ST / LAGUNA ST   \n2       Wednesday   NORTHERN  ARREST, BOOKED   VANNESS AV / GREENWICH ST   \n3       Wednesday   NORTHERN            NONE    1500 Block of LOMBARD ST   \n4       Wednesday       PARK            NONE   100 Block of BRODERICK ST   \n...           ...        ...             ...                         ...   \n878044     Monday    TARAVAL            NONE  FARALLONES ST / CAPITOL AV   \n878045     Monday  INGLESIDE            NONE        600 Block of EDNA ST   \n878046     Monday   SOUTHERN            NONE          5TH ST / FOLSOM ST   \n878047     Monday   SOUTHERN            NONE        TOWNSEND ST / 2ND ST   \n878048     Monday    BAYVIEW            NONE    1800 Block of NEWCOMB AV   \n\n                 X          Y  year  month  day  hour  minute  \n0      -122.425892  37.774599  2015      5   13    23      53  \n1      -122.425892  37.774599  2015      5   13    23      53  \n2      -122.424363  37.800414  2015      5   13    23      33  \n3      -122.426995  37.800873  2015      5   13    23      30  \n4      -122.438738  37.771541  2015      5   13    23      30  \n...            ...        ...   ...    ...  ...   ...     ...  \n878044 -122.459033  37.714056  2003      1    6     0      15  \n878045 -122.447364  37.731948  2003      1    6     0       1  \n878046 -122.403390  37.780266  2003      1    6     0       1  \n878047 -122.390531  37.780607  2003      1    6     0       1  \n878048 -122.394926  37.738212  2003      1    6     0       1  \n\n[878049 rows x 13 columns]",
      "text/html": "<div>\n<style scoped>\n    .dataframe tbody tr th:only-of-type {\n        vertical-align: middle;\n    }\n\n    .dataframe tbody tr th {\n        vertical-align: top;\n    }\n\n    .dataframe thead th {\n        text-align: right;\n    }\n</style>\n<table border=\"1\" class=\"dataframe\">\n  <thead>\n    <tr style=\"text-align: right;\">\n      <th></th>\n      <th>Category</th>\n      <th>Descript</th>\n      <th>DayOfWeek</th>\n      <th>PdDistrict</th>\n      <th>Resolution</th>\n      <th>Address</th>\n      <th>X</th>\n      <th>Y</th>\n      <th>year</th>\n      <th>month</th>\n      <th>day</th>\n      <th>hour</th>\n      <th>minute</th>\n    </tr>\n  </thead>\n  <tbody>\n    <tr>\n      <th>0</th>\n      <td>WARRANTS</td>\n      <td>WARRANT ARREST</td>\n      <td>Wednesday</td>\n      <td>NORTHERN</td>\n      <td>ARREST, BOOKED</td>\n      <td>OAK ST / LAGUNA ST</td>\n      <td>-122.425892</td>\n      <td>37.774599</td>\n      <td>2015</td>\n      <td>5</td>\n      <td>13</td>\n      <td>23</td>\n      <td>53</td>\n    </tr>\n    <tr>\n      <th>1</th>\n      <td>OTHER OFFENSES</td>\n      <td>TRAFFIC VIOLATION ARREST</td>\n      <td>Wednesday</td>\n      <td>NORTHERN</td>\n      <td>ARREST, BOOKED</td>\n      <td>OAK ST / LAGUNA ST</td>\n      <td>-122.425892</td>\n      <td>37.774599</td>\n      <td>2015</td>\n      <td>5</td>\n      <td>13</td>\n      <td>23</td>\n      <td>53</td>\n    </tr>\n    <tr>\n      <th>2</th>\n      <td>OTHER OFFENSES</td>\n      <td>TRAFFIC VIOLATION ARREST</td>\n      <td>Wednesday</td>\n      <td>NORTHERN</td>\n      <td>ARREST, BOOKED</td>\n      <td>VANNESS AV / GREENWICH ST</td>\n      <td>-122.424363</td>\n      <td>37.800414</td>\n      <td>2015</td>\n      <td>5</td>\n      <td>13</td>\n      <td>23</td>\n      <td>33</td>\n    </tr>\n    <tr>\n      <th>3</th>\n      <td>LARCENY/THEFT</td>\n      <td>GRAND THEFT FROM LOCKED AUTO</td>\n      <td>Wednesday</td>\n      <td>NORTHERN</td>\n      <td>NONE</td>\n      <td>1500 Block of LOMBARD ST</td>\n      <td>-122.426995</td>\n      <td>37.800873</td>\n      <td>2015</td>\n      <td>5</td>\n      <td>13</td>\n      <td>23</td>\n      <td>30</td>\n    </tr>\n    <tr>\n      <th>4</th>\n      <td>LARCENY/THEFT</td>\n      <td>GRAND THEFT FROM LOCKED AUTO</td>\n      <td>Wednesday</td>\n      <td>PARK</td>\n      <td>NONE</td>\n      <td>100 Block of BRODERICK ST</td>\n      <td>-122.438738</td>\n      <td>37.771541</td>\n      <td>2015</td>\n      <td>5</td>\n      <td>13</td>\n      <td>23</td>\n      <td>30</td>\n    </tr>\n    <tr>\n      <th>...</th>\n      <td>...</td>\n      <td>...</td>\n      <td>...</td>\n      <td>...</td>\n      <td>...</td>\n      <td>...</td>\n      <td>...</td>\n      <td>...</td>\n      <td>...</td>\n      <td>...</td>\n      <td>...</td>\n      <td>...</td>\n      <td>...</td>\n    </tr>\n    <tr>\n      <th>878044</th>\n      <td>ROBBERY</td>\n      <td>ROBBERY ON THE STREET WITH A GUN</td>\n      <td>Monday</td>\n      <td>TARAVAL</td>\n      <td>NONE</td>\n      <td>FARALLONES ST / CAPITOL AV</td>\n      <td>-122.459033</td>\n      <td>37.714056</td>\n      <td>2003</td>\n      <td>1</td>\n      <td>6</td>\n      <td>0</td>\n      <td>15</td>\n    </tr>\n    <tr>\n      <th>878045</th>\n      <td>LARCENY/THEFT</td>\n      <td>GRAND THEFT FROM LOCKED AUTO</td>\n      <td>Monday</td>\n      <td>INGLESIDE</td>\n      <td>NONE</td>\n      <td>600 Block of EDNA ST</td>\n      <td>-122.447364</td>\n      <td>37.731948</td>\n      <td>2003</td>\n      <td>1</td>\n      <td>6</td>\n      <td>0</td>\n      <td>1</td>\n    </tr>\n    <tr>\n      <th>878046</th>\n      <td>LARCENY/THEFT</td>\n      <td>GRAND THEFT FROM LOCKED AUTO</td>\n      <td>Monday</td>\n      <td>SOUTHERN</td>\n      <td>NONE</td>\n      <td>5TH ST / FOLSOM ST</td>\n      <td>-122.403390</td>\n      <td>37.780266</td>\n      <td>2003</td>\n      <td>1</td>\n      <td>6</td>\n      <td>0</td>\n      <td>1</td>\n    </tr>\n    <tr>\n      <th>878047</th>\n      <td>VANDALISM</td>\n      <td>MALICIOUS MISCHIEF, VANDALISM OF VEHICLES</td>\n      <td>Monday</td>\n      <td>SOUTHERN</td>\n      <td>NONE</td>\n      <td>TOWNSEND ST / 2ND ST</td>\n      <td>-122.390531</td>\n      <td>37.780607</td>\n      <td>2003</td>\n      <td>1</td>\n      <td>6</td>\n      <td>0</td>\n      <td>1</td>\n    </tr>\n    <tr>\n      <th>878048</th>\n      <td>FORGERY/COUNTERFEITING</td>\n      <td>CHECKS, FORGERY (FELONY)</td>\n      <td>Monday</td>\n      <td>BAYVIEW</td>\n      <td>NONE</td>\n      <td>1800 Block of NEWCOMB AV</td>\n      <td>-122.394926</td>\n      <td>37.738212</td>\n      <td>2003</td>\n      <td>1</td>\n      <td>6</td>\n      <td>0</td>\n      <td>1</td>\n    </tr>\n  </tbody>\n</table>\n<p>878049 rows × 13 columns</p>\n</div>"
     },
     "execution_count": 30,
     "metadata": {},
     "output_type": "execute_result"
    }
   ],
   "source": [
    "data = pd.read_csv('../data/train.csv')\n",
    "data[['year', 'month', 'day', 'hour', 'minute']] = data.Dates.str.extract('(?P<year>\\d{4})-(?P<month>\\d{2})-(?P<day>\\d{2}) (?P<hour>\\d{2}):(?P<minute>\\d{2})')\n",
    "\n",
    "data = data.astype({\n",
    "    'year': 'int32',\n",
    "    'month': 'int32',\n",
    "    'day': 'int32',\n",
    "    'hour': 'int32',\n",
    "    'minute': 'int32',\n",
    "})\n",
    "\n",
    "data.drop('Dates', inplace=True, axis=1)\n",
    "data"
   ],
   "metadata": {
    "collapsed": false
   }
  }
 ],
 "metadata": {
  "kernelspec": {
   "display_name": "Python 3",
   "language": "python",
   "name": "python3"
  },
  "language_info": {
   "codemirror_mode": {
    "name": "ipython",
    "version": 2
   },
   "file_extension": ".py",
   "mimetype": "text/x-python",
   "name": "python",
   "nbconvert_exporter": "python",
   "pygments_lexer": "ipython2",
   "version": "2.7.6"
  }
 },
 "nbformat": 4,
 "nbformat_minor": 0
}
